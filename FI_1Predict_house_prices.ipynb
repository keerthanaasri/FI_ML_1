{
  "nbformat": 4,
  "nbformat_minor": 0,
  "metadata": {
    "colab": {
      "provenance": [],
      "mount_file_id": "1u4kZdb8_Au68Y0vIaJw3WrlVKyKhvi9D",
      "authorship_tag": "ABX9TyOrPxLFAPPYm+yKmeCUwMMO",
      "include_colab_link": true
    },
    "kernelspec": {
      "name": "python3",
      "display_name": "Python 3"
    },
    "language_info": {
      "name": "python"
    }
  },
  "cells": [
    {
      "cell_type": "markdown",
      "metadata": {
        "id": "view-in-github",
        "colab_type": "text"
      },
      "source": [
        "<a href=\"https://colab.research.google.com/github/keerthanaasri/FI_ML_1/blob/main/FI_1Predict_house_prices.ipynb\" target=\"_parent\"><img src=\"https://colab.research.google.com/assets/colab-badge.svg\" alt=\"Open In Colab\"/></a>"
      ]
    },
    {
      "cell_type": "code",
      "source": [
        "import pandas as pd\n",
        "import numpy as np\n",
        "from sklearn.model_selection import train_test_split\n",
        "from sklearn.linear_model import LinearRegression\n",
        "from sklearn.tree import DecisionTreeRegressor\n",
        "from sklearn.metrics import mean_squared_error\n",
        "from sklearn.preprocessing import StandardScaler\n",
        "\n",
        "df = pd.read_csv(\"/content/drive/MyDrive/kc_house_data.csv\")\n",
        "print(\" Dataset Loaded. Shape:\", df.shape)\n",
        "\n",
        "features = ['sqft_living', 'sqft_basement', 'grade', 'garage_cars', 'garage_area', 'yr_built']\n",
        "target = 'price'\n",
        "\n",
        "available_features = [f for f in features if f in df.columns]\n",
        "if target not in df.columns:\n",
        "    raise KeyError(f\" Column '{target}' not found in dataset\")\n",
        "\n",
        "df = df[available_features + [target]].dropna()\n",
        "\n",
        "X = df[available_features]\n",
        "y = df[target]\n",
        "scaler = StandardScaler()\n",
        "X_scaled = scaler.fit_transform(X)\n",
        "\n",
        "X_train, X_test, y_train, y_test = train_test_split(X_scaled, y, test_size=0.2, random_state=42)\n",
        "\n",
        "lr = LinearRegression()\n",
        "lr.fit(X_train, y_train)\n",
        "lr_pred = lr.predict(X_test)\n",
        "lr_mse = mean_squared_error(y_test, lr_pred)\n",
        "\n",
        "dt = DecisionTreeRegressor(max_depth=5, random_state=42)\n",
        "dt.fit(X_train, y_train)\n",
        "dt_pred = dt.predict(X_test)\n",
        "dt_mse = mean_squared_error(y_test, dt_pred)\n",
        "\n",
        "print(\" Linear Regression MSE:\", round(lr_mse, 2))\n",
        "print(\" Decision Tree MSE:\", round(dt_mse, 2))\n"
      ],
      "metadata": {
        "colab": {
          "base_uri": "https://localhost:8080/"
        },
        "id": "RDTUp_MNpaxi",
        "outputId": "473257bb-f848-4af5-d16f-c9714358a95d"
      },
      "execution_count": null,
      "outputs": [
        {
          "output_type": "stream",
          "name": "stdout",
          "text": [
            " Dataset Loaded. Shape: (21613, 21)\n",
            " Linear Regression MSE: 60463102861.96\n",
            " Decision Tree MSE: 61112785778.14\n"
          ]
        }
      ]
    }
  ]
}